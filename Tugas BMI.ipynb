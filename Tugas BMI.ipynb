{
 "cells": [
  {
   "cell_type": "markdown",
   "metadata": {},
   "source": [
    "# TUGAS PERTEMUAN 1\n",
    "\n",
    "## MENENTUKAN BMI"
   ]
  },
  {
   "cell_type": "code",
   "execution_count": 16,
   "metadata": {},
   "outputs": [
    {
     "name": "stdout",
     "output_type": "stream",
     "text": [
      "Menentukan BMI\n",
      "\n",
      "Masukan berat badan Anda dalam kg = 60\n",
      "Masukan tinggi badan Anda dalam cm = 170\n",
      "\n",
      "Nilai BMI Anda adalah : 20.76 kg/m^2\n",
      "Anda masuk dalam kategori : Normal (healthy weight)\n"
     ]
    }
   ],
   "source": [
    "# masukan dari user\n",
    "print(\"Menentukan BMI\\n\")\n",
    "berat_badan = input(\"Masukan berat badan Anda dalam kg = \")\n",
    "tinggi_badan = input(\"Masukan tinggi badan Anda dalam cm = \")\n",
    "\n",
    "# perhitungan BMI\n",
    "berat_badan = float(berat_badan)\n",
    "tinggi_badan = float(tinggi_badan)\n",
    "\n",
    "tinggi_badan /= 100\n",
    "BMI = berat_badan/(tinggi_badan**2)\n",
    "BMI = round(BMI, 2)\n",
    "\n",
    "print(\"\\nNilai BMI Anda adalah :\", BMI, \"kg/m^2\")\n",
    "\n",
    "# menentukan kategori\n",
    "if BMI < 15:\n",
    "    kategori_bmi = \"Very severely underweight\"\n",
    "elif BMI < 16:\n",
    "    kategori_bmi = \"Severely underweight\"\n",
    "elif BMI < 18.5:\n",
    "    kategori_bmi = \"Underweight\"\n",
    "elif BMI < 25:\n",
    "    kategori_bmi = \"Normal (healthy weight)\"\n",
    "elif BMI < 30:\n",
    "    kategori_bmi = \"Overweight\"\n",
    "elif BMI < 35:\n",
    "    kategori_bmi = \"Moderately obese\"\n",
    "elif BMI < 40:\n",
    "    kategori_bmi = \"Severely obese\"\n",
    "else:\n",
    "    kategori_bmi = \"Very severely obese\"\n",
    "    \n",
    "print(\"Anda masuk dalam kategori :\", kategori_bmi)"
   ]
  },
  {
   "cell_type": "code",
   "execution_count": null,
   "metadata": {},
   "outputs": [],
   "source": []
  }
 ],
 "metadata": {
  "kernelspec": {
   "display_name": "Python 3",
   "language": "python",
   "name": "python3"
  },
  "language_info": {
   "codemirror_mode": {
    "name": "ipython",
    "version": 3
   },
   "file_extension": ".py",
   "mimetype": "text/x-python",
   "name": "python",
   "nbconvert_exporter": "python",
   "pygments_lexer": "ipython3",
   "version": "3.7.0"
  }
 },
 "nbformat": 4,
 "nbformat_minor": 2
}
