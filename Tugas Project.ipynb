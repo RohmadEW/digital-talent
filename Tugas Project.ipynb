{
 "cells": [
  {
   "cell_type": "markdown",
   "metadata": {},
   "source": [
    "# Tugas Statistik\n",
    "\n",
    "Data yang saya ambil adalah data putus sekolah siswa SD, SMP dan SMA pada tahun 2008 sampai tahun 2011. Data ini berasal dari website data.go.id. Data ini menunjukan jumlah siswa yang mengalami putus sekolah setiap provinsi di Indonesia. Data yang ditampilkan adalah data jumlah putus sekolah dan porsentasenya."
   ]
  },
  {
   "cell_type": "code",
   "execution_count": 145,
   "metadata": {},
   "outputs": [],
   "source": [
    "import pandas as pd\n",
    "\n",
    "# read data\n",
    "dataSD = pd.read_csv('processed-data-putus-sekolah-sd-2008-2011.csv', delimiter = ',', encoding = \"ISO-8859-1\")\n",
    "dataSMP = pd.read_csv('processed-data-putus-sekolah-smp-2008-2011.csv', delimiter = ',', encoding = \"ISO-8859-1\")\n",
    "dataSMA = pd.read_csv('processed-data-putus-sekolah-sma-2008-2011.csv', delimiter = ',', encoding = \"ISO-8859-1\")\n",
    "\n",
    "# rename kolom\n",
    "dataSDRename = dataSD.rename(columns={\n",
    "    'jumlah_putus_sekolah': 'sd_jumlah_putus_sekolah', \n",
    "    'persen_putus_sekolah': 'sd_persen_putus_sekolah'\n",
    "})\n",
    "dataSMPRename = dataSMP.rename(columns={\n",
    "    'jumlah_putus_sekolah': 'smp_jumlah_putus_sekolah', \n",
    "    'persen_putus_sekolah': 'smp_persen_putus_sekolah'\n",
    "})\n",
    "dataSMARename = dataSMA.rename(columns={\n",
    "    'jumlah_putus_sekolah': 'sma_jumlah_putus_sekolah', \n",
    "    'persen_putus_sekolah': 'sma_persen_putus_sekolah'\n",
    "})\n",
    "\n",
    "# merge all data\n",
    "dataSDSMP = pd.merge(dataSDRename, dataSMPRename, how='outer', on=['kode_provinsi', 'tahun'])\n",
    "dataSekolah = pd.merge(dataSDSMP, dataSMARename, how='outer', on=['kode_provinsi', 'tahun'])"
   ]
  },
  {
   "cell_type": "code",
   "execution_count": 70,
   "metadata": {},
   "outputs": [
    {
     "name": "stdout",
     "output_type": "stream",
     "text": [
      "Data siswa SD yang putus sekolah (diambil 5 baris secara random)\n"
     ]
    },
    {
     "data": {
      "text/html": [
       "<div>\n",
       "<style scoped>\n",
       "    .dataframe tbody tr th:only-of-type {\n",
       "        vertical-align: middle;\n",
       "    }\n",
       "\n",
       "    .dataframe tbody tr th {\n",
       "        vertical-align: top;\n",
       "    }\n",
       "\n",
       "    .dataframe thead th {\n",
       "        text-align: right;\n",
       "    }\n",
       "</style>\n",
       "<table border=\"1\" class=\"dataframe\">\n",
       "  <thead>\n",
       "    <tr style=\"text-align: right;\">\n",
       "      <th></th>\n",
       "      <th>kode_provinsi</th>\n",
       "      <th>nama_provinsi</th>\n",
       "      <th>tahun</th>\n",
       "      <th>jumlah_putus_sekolah</th>\n",
       "      <th>persen_putus_sekolah</th>\n",
       "    </tr>\n",
       "  </thead>\n",
       "  <tbody>\n",
       "    <tr>\n",
       "      <th>37</th>\n",
       "      <td>21</td>\n",
       "      <td>Prov. Kepulauan Riau</td>\n",
       "      <td>2009</td>\n",
       "      <td>1808</td>\n",
       "      <td>1.168517</td>\n",
       "    </tr>\n",
       "    <tr>\n",
       "      <th>49</th>\n",
       "      <td>33</td>\n",
       "      <td>Prov. Jawa Tengah</td>\n",
       "      <td>2009</td>\n",
       "      <td>35658</td>\n",
       "      <td>1.046673</td>\n",
       "    </tr>\n",
       "    <tr>\n",
       "      <th>31</th>\n",
       "      <td>18</td>\n",
       "      <td>Prov. Lampung</td>\n",
       "      <td>2011</td>\n",
       "      <td>7528</td>\n",
       "      <td>0.731126</td>\n",
       "    </tr>\n",
       "    <tr>\n",
       "      <th>90</th>\n",
       "      <td>64</td>\n",
       "      <td>Prov. Kalimantan Timur</td>\n",
       "      <td>2010</td>\n",
       "      <td>13756</td>\n",
       "      <td>3.148049</td>\n",
       "    </tr>\n",
       "    <tr>\n",
       "      <th>18</th>\n",
       "      <td>15</td>\n",
       "      <td>Prov. Jambi</td>\n",
       "      <td>2010</td>\n",
       "      <td>5113</td>\n",
       "      <td>1.217677</td>\n",
       "    </tr>\n",
       "  </tbody>\n",
       "</table>\n",
       "</div>"
      ],
      "text/plain": [
       "    kode_provinsi           nama_provinsi  tahun  jumlah_putus_sekolah  \\\n",
       "37             21    Prov. Kepulauan Riau   2009                  1808   \n",
       "49             33       Prov. Jawa Tengah   2009                 35658   \n",
       "31             18           Prov. Lampung   2011                  7528   \n",
       "90             64  Prov. Kalimantan Timur   2010                 13756   \n",
       "18             15             Prov. Jambi   2010                  5113   \n",
       "\n",
       "    persen_putus_sekolah  \n",
       "37              1.168517  \n",
       "49              1.046673  \n",
       "31              0.731126  \n",
       "90              3.148049  \n",
       "18              1.217677  "
      ]
     },
     "execution_count": 70,
     "metadata": {},
     "output_type": "execute_result"
    }
   ],
   "source": [
    "print(\"Data siswa SD yang putus sekolah (diambil 5 baris secara random)\")\n",
    "dataSD.sample(5)"
   ]
  },
  {
   "cell_type": "code",
   "execution_count": 71,
   "metadata": {},
   "outputs": [
    {
     "name": "stdout",
     "output_type": "stream",
     "text": [
      "Data siswa SMP yang putus sekolah (diambil 5 baris secara random)\n"
     ]
    },
    {
     "data": {
      "text/html": [
       "<div>\n",
       "<style scoped>\n",
       "    .dataframe tbody tr th:only-of-type {\n",
       "        vertical-align: middle;\n",
       "    }\n",
       "\n",
       "    .dataframe tbody tr th {\n",
       "        vertical-align: top;\n",
       "    }\n",
       "\n",
       "    .dataframe thead th {\n",
       "        text-align: right;\n",
       "    }\n",
       "</style>\n",
       "<table border=\"1\" class=\"dataframe\">\n",
       "  <thead>\n",
       "    <tr style=\"text-align: right;\">\n",
       "      <th></th>\n",
       "      <th>kode_provinsi</th>\n",
       "      <th>nama_provinsi</th>\n",
       "      <th>tahun</th>\n",
       "      <th>jumlah_putus_sekolah</th>\n",
       "      <th>persen_putus_sekolah</th>\n",
       "    </tr>\n",
       "  </thead>\n",
       "  <tbody>\n",
       "    <tr>\n",
       "      <th>73</th>\n",
       "      <td>53</td>\n",
       "      <td>Prov. Nusa Tenggara Timur</td>\n",
       "      <td>2009</td>\n",
       "      <td>1786</td>\n",
       "      <td>0.839156</td>\n",
       "    </tr>\n",
       "    <tr>\n",
       "      <th>45</th>\n",
       "      <td>32</td>\n",
       "      <td>Prov. Jawa Barat</td>\n",
       "      <td>2009</td>\n",
       "      <td>75416</td>\n",
       "      <td>5.293053</td>\n",
       "    </tr>\n",
       "    <tr>\n",
       "      <th>7</th>\n",
       "      <td>12</td>\n",
       "      <td>Prov. Sumatera Utara</td>\n",
       "      <td>2011</td>\n",
       "      <td>4925</td>\n",
       "      <td>0.787388</td>\n",
       "    </tr>\n",
       "    <tr>\n",
       "      <th>43</th>\n",
       "      <td>31</td>\n",
       "      <td>Prov. DKI Jakarta</td>\n",
       "      <td>2011</td>\n",
       "      <td>2033</td>\n",
       "      <td>0.595779</td>\n",
       "    </tr>\n",
       "    <tr>\n",
       "      <th>54</th>\n",
       "      <td>34</td>\n",
       "      <td>Prov. D I Yogyakarta</td>\n",
       "      <td>2010</td>\n",
       "      <td>300</td>\n",
       "      <td>0.224373</td>\n",
       "    </tr>\n",
       "  </tbody>\n",
       "</table>\n",
       "</div>"
      ],
      "text/plain": [
       "    kode_provinsi              nama_provinsi  tahun  jumlah_putus_sekolah  \\\n",
       "73             53  Prov. Nusa Tenggara Timur   2009                  1786   \n",
       "45             32           Prov. Jawa Barat   2009                 75416   \n",
       "7              12       Prov. Sumatera Utara   2011                  4925   \n",
       "43             31          Prov. DKI Jakarta   2011                  2033   \n",
       "54             34       Prov. D I Yogyakarta   2010                   300   \n",
       "\n",
       "    persen_putus_sekolah  \n",
       "73              0.839156  \n",
       "45              5.293053  \n",
       "7               0.787388  \n",
       "43              0.595779  \n",
       "54              0.224373  "
      ]
     },
     "execution_count": 71,
     "metadata": {},
     "output_type": "execute_result"
    }
   ],
   "source": [
    "print(\"Data siswa SMP yang putus sekolah (diambil 5 baris secara random)\")\n",
    "dataSMP.sample(5)"
   ]
  },
  {
   "cell_type": "code",
   "execution_count": 72,
   "metadata": {},
   "outputs": [
    {
     "name": "stdout",
     "output_type": "stream",
     "text": [
      "Data siswa SMA yang putus sekolah (diambil 5 baris secara random)\n"
     ]
    },
    {
     "data": {
      "text/html": [
       "<div>\n",
       "<style scoped>\n",
       "    .dataframe tbody tr th:only-of-type {\n",
       "        vertical-align: middle;\n",
       "    }\n",
       "\n",
       "    .dataframe tbody tr th {\n",
       "        vertical-align: top;\n",
       "    }\n",
       "\n",
       "    .dataframe thead th {\n",
       "        text-align: right;\n",
       "    }\n",
       "</style>\n",
       "<table border=\"1\" class=\"dataframe\">\n",
       "  <thead>\n",
       "    <tr style=\"text-align: right;\">\n",
       "      <th></th>\n",
       "      <th>kode_provinsi</th>\n",
       "      <th>nama_provinsi</th>\n",
       "      <th>tahun</th>\n",
       "      <th>jumlah_putus_sekolah</th>\n",
       "      <th>persen_putus_sekolah</th>\n",
       "    </tr>\n",
       "  </thead>\n",
       "  <tbody>\n",
       "    <tr>\n",
       "      <th>49</th>\n",
       "      <td>33</td>\n",
       "      <td>Prov. Jawa Tengah</td>\n",
       "      <td>2009</td>\n",
       "      <td>8000</td>\n",
       "      <td>0.633024</td>\n",
       "    </tr>\n",
       "    <tr>\n",
       "      <th>39</th>\n",
       "      <td>21</td>\n",
       "      <td>Prov. Kepulauan Riau</td>\n",
       "      <td>2011</td>\n",
       "      <td>1415</td>\n",
       "      <td>2.344074</td>\n",
       "    </tr>\n",
       "    <tr>\n",
       "      <th>11</th>\n",
       "      <td>13</td>\n",
       "      <td>Prov. Sumatera Barat</td>\n",
       "      <td>2011</td>\n",
       "      <td>3093</td>\n",
       "      <td>1.492890</td>\n",
       "    </tr>\n",
       "    <tr>\n",
       "      <th>16</th>\n",
       "      <td>15</td>\n",
       "      <td>Prov. Jambi</td>\n",
       "      <td>2008</td>\n",
       "      <td>4300</td>\n",
       "      <td>4.056642</td>\n",
       "    </tr>\n",
       "    <tr>\n",
       "      <th>45</th>\n",
       "      <td>32</td>\n",
       "      <td>Prov. Jawa Barat</td>\n",
       "      <td>2009</td>\n",
       "      <td>75416</td>\n",
       "      <td>5.293053</td>\n",
       "    </tr>\n",
       "  </tbody>\n",
       "</table>\n",
       "</div>"
      ],
      "text/plain": [
       "    kode_provinsi         nama_provinsi  tahun  jumlah_putus_sekolah  \\\n",
       "49             33     Prov. Jawa Tengah   2009                  8000   \n",
       "39             21  Prov. Kepulauan Riau   2011                  1415   \n",
       "11             13  Prov. Sumatera Barat   2011                  3093   \n",
       "16             15           Prov. Jambi   2008                  4300   \n",
       "45             32      Prov. Jawa Barat   2009                 75416   \n",
       "\n",
       "    persen_putus_sekolah  \n",
       "49              0.633024  \n",
       "39              2.344074  \n",
       "11              1.492890  \n",
       "16              4.056642  \n",
       "45              5.293053  "
      ]
     },
     "execution_count": 72,
     "metadata": {},
     "output_type": "execute_result"
    }
   ],
   "source": [
    "print(\"Data siswa SMA yang putus sekolah (diambil 5 baris secara random)\")\n",
    "dataSMP.sample(5)"
   ]
  },
  {
   "cell_type": "code",
   "execution_count": 146,
   "metadata": {},
   "outputs": [
    {
     "name": "stdout",
     "output_type": "stream",
     "text": [
      "Data gabungan siswa SD, SMP dan SMA yang putus sekolah (diambil 5 baris secara random)\n"
     ]
    },
    {
     "data": {
      "text/html": [
       "<div>\n",
       "<style scoped>\n",
       "    .dataframe tbody tr th:only-of-type {\n",
       "        vertical-align: middle;\n",
       "    }\n",
       "\n",
       "    .dataframe tbody tr th {\n",
       "        vertical-align: top;\n",
       "    }\n",
       "\n",
       "    .dataframe thead th {\n",
       "        text-align: right;\n",
       "    }\n",
       "</style>\n",
       "<table border=\"1\" class=\"dataframe\">\n",
       "  <thead>\n",
       "    <tr style=\"text-align: right;\">\n",
       "      <th></th>\n",
       "      <th>kode_provinsi</th>\n",
       "      <th>nama_provinsi</th>\n",
       "      <th>tahun</th>\n",
       "      <th>sd_jumlah_putus_sekolah</th>\n",
       "      <th>sd_persen_putus_sekolah</th>\n",
       "      <th>smp_jumlah_putus_sekolah</th>\n",
       "      <th>smp_persen_putus_sekolah</th>\n",
       "      <th>sma_jumlah_putus_sekolah</th>\n",
       "      <th>sma_persen_putus_sekolah</th>\n",
       "      <th>total_jumlah_putus_sekolah</th>\n",
       "    </tr>\n",
       "  </thead>\n",
       "  <tbody>\n",
       "    <tr>\n",
       "      <th>44</th>\n",
       "      <td>32</td>\n",
       "      <td>Prov. Jawa Barat</td>\n",
       "      <td>2008</td>\n",
       "      <td>66876</td>\n",
       "      <td>1.511972</td>\n",
       "      <td>38779</td>\n",
       "      <td>2.960462</td>\n",
       "      <td>9419</td>\n",
       "      <td>1.893731</td>\n",
       "      <td>115074</td>\n",
       "    </tr>\n",
       "    <tr>\n",
       "      <th>99</th>\n",
       "      <td>72</td>\n",
       "      <td>Prov. Sulawesi Tengah</td>\n",
       "      <td>2011</td>\n",
       "      <td>4069</td>\n",
       "      <td>1.115904</td>\n",
       "      <td>3341</td>\n",
       "      <td>2.927312</td>\n",
       "      <td>1172</td>\n",
       "      <td>2.150104</td>\n",
       "      <td>8582</td>\n",
       "    </tr>\n",
       "    <tr>\n",
       "      <th>97</th>\n",
       "      <td>72</td>\n",
       "      <td>Prov. Sulawesi Tengah</td>\n",
       "      <td>2009</td>\n",
       "      <td>7514</td>\n",
       "      <td>2.125824</td>\n",
       "      <td>2693</td>\n",
       "      <td>2.898317</td>\n",
       "      <td>1439</td>\n",
       "      <td>2.965359</td>\n",
       "      <td>11646</td>\n",
       "    </tr>\n",
       "    <tr>\n",
       "      <th>8</th>\n",
       "      <td>13</td>\n",
       "      <td>Prov. Sumatera Barat</td>\n",
       "      <td>2008</td>\n",
       "      <td>16371</td>\n",
       "      <td>2.480203</td>\n",
       "      <td>3767</td>\n",
       "      <td>1.868477</td>\n",
       "      <td>7357</td>\n",
       "      <td>6.471902</td>\n",
       "      <td>27495</td>\n",
       "    </tr>\n",
       "    <tr>\n",
       "      <th>128</th>\n",
       "      <td>94</td>\n",
       "      <td>Prov. Papua</td>\n",
       "      <td>2008</td>\n",
       "      <td>8783</td>\n",
       "      <td>3.099777</td>\n",
       "      <td>3880</td>\n",
       "      <td>4.233635</td>\n",
       "      <td>2092</td>\n",
       "      <td>5.444939</td>\n",
       "      <td>14755</td>\n",
       "    </tr>\n",
       "  </tbody>\n",
       "</table>\n",
       "</div>"
      ],
      "text/plain": [
       "     kode_provinsi          nama_provinsi  tahun  sd_jumlah_putus_sekolah  \\\n",
       "44              32       Prov. Jawa Barat   2008                    66876   \n",
       "99              72  Prov. Sulawesi Tengah   2011                     4069   \n",
       "97              72  Prov. Sulawesi Tengah   2009                     7514   \n",
       "8               13   Prov. Sumatera Barat   2008                    16371   \n",
       "128             94            Prov. Papua   2008                     8783   \n",
       "\n",
       "     sd_persen_putus_sekolah  smp_jumlah_putus_sekolah  \\\n",
       "44                  1.511972                     38779   \n",
       "99                  1.115904                      3341   \n",
       "97                  2.125824                      2693   \n",
       "8                   2.480203                      3767   \n",
       "128                 3.099777                      3880   \n",
       "\n",
       "     smp_persen_putus_sekolah  sma_jumlah_putus_sekolah  \\\n",
       "44                   2.960462                      9419   \n",
       "99                   2.927312                      1172   \n",
       "97                   2.898317                      1439   \n",
       "8                    1.868477                      7357   \n",
       "128                  4.233635                      2092   \n",
       "\n",
       "     sma_persen_putus_sekolah  total_jumlah_putus_sekolah  \n",
       "44                   1.893731                      115074  \n",
       "99                   2.150104                        8582  \n",
       "97                   2.965359                       11646  \n",
       "8                    6.471902                       27495  \n",
       "128                  5.444939                       14755  "
      ]
     },
     "execution_count": 146,
     "metadata": {},
     "output_type": "execute_result"
    }
   ],
   "source": [
    "print(\"Data gabungan siswa SD, SMP dan SMA yang putus sekolah (diambil 5 baris secara random)\")\n",
    "dataSekolah.drop(dataSekolah[['nama_provinsi_y', 'nama_provinsi']], axis=1, inplace=True)\n",
    "dataSekolah = dataSekolah.rename(columns={'nama_provinsi_x' : 'nama_provinsi'})\n",
    "dataSekolah['total_jumlah_putus_sekolah'] = dataSekolah['sd_jumlah_putus_sekolah'] + dataSekolah['smp_jumlah_putus_sekolah'] + dataSekolah['sma_jumlah_putus_sekolah']\n",
    "dataSekolah.sample(5)"
   ]
  },
  {
   "cell_type": "code",
   "execution_count": 147,
   "metadata": {},
   "outputs": [
    {
     "data": {
      "text/plain": [
       "tahun\n",
       "2008    24063.484848\n",
       "2009    22923.484848\n",
       "2010    22655.636364\n",
       "2011    13441.454545\n",
       "Name: total_jumlah_putus_sekolah, dtype: float64"
      ]
     },
     "execution_count": 147,
     "metadata": {},
     "output_type": "execute_result"
    }
   ],
   "source": [
    "dg = dataSekolah.groupby('tahun').mean()['total_jumlah_putus_sekolah']\n",
    "dg"
   ]
  },
  {
   "cell_type": "code",
   "execution_count": 148,
   "metadata": {},
   "outputs": [
    {
     "data": {
      "text/plain": [
       "Text(0, 0.5, 'Jumlah Individu')"
      ]
     },
     "execution_count": 148,
     "metadata": {},
     "output_type": "execute_result"
    },
    {
     "data": {
      "image/png": "[encoded data removed]",
      "text/plain": [
       "<Figure size 1080x360 with 1 Axes>"
      ]
     },
     "metadata": {
      "needs_background": "light"
     },
     "output_type": "display_data"
    }
   ],
   "source": [
    "dg = dg.plot(kind='bar', title =\"Jumlah siswa (SD, SMP, SMA) putus sekolah setiap tahun\", figsize=(15,5), legend=True, fontsize=12)\n",
    "dg.set_xlabel(\"Tahun\", fontsize=12)\n",
    "dg.set_ylabel(\"Jumlah Individu\", fontsize=12)"
   ]
  },
  {
   "cell_type": "markdown",
   "metadata": {},
   "source": [
    "Pada grafik diatas menunjukan bahwa angka siswa putus sekolah mengalami penurunan setiap tahun."
   ]
  },
  {
   "cell_type": "code",
   "execution_count": 152,
   "metadata": {},
   "outputs": [
    {
     "data": {
      "text/plain": [
       "nama_provinsi\n",
       "Prov. Sumatera Barat              20913.50\n",
       "Prov. Maluku                       7047.00\n",
       "Prov. Kalimantan Barat            26844.25\n",
       "Prov. Nanggroe Aceh Darussalam    17789.75\n",
       "Prov. Sulawesi Selatan            22234.75\n",
       "Name: total_jumlah_putus_sekolah, dtype: float64"
      ]
     },
     "execution_count": 152,
     "metadata": {},
     "output_type": "execute_result"
    }
   ],
   "source": [
    "dg = dataSekolah.groupby('nama_provinsi').mean()['total_jumlah_putus_sekolah']\n",
    "dg.sample(5)"
   ]
  },
  {
   "cell_type": "code",
   "execution_count": 153,
   "metadata": {},
   "outputs": [
    {
     "data": {
      "text/plain": [
       "Text(0, 0.5, 'Jumlah Individu')"
      ]
     },
     "execution_count": 153,
     "metadata": {},
     "output_type": "execute_result"
    },
    {
     "data": {
      "image/png": "[encoded data removed]",
      "text/plain": [
       "<Figure size 1080x360 with 1 Axes>"
      ]
     },
     "metadata": {
      "needs_background": "light"
     },
     "output_type": "display_data"
    }
   ],
   "source": [
    "dg = dg.plot(kind='bar', title =\"Jumlah siswa (SD, SMP, SMA) putus sekolah setiap provinsi\", figsize=(15,5), legend=True, fontsize=12)\n",
    "dg.set_xlabel(\"Provinsi\", fontsize=12)\n",
    "dg.set_ylabel(\"Jumlah Individu\", fontsize=12)"
   ]
  },
  {
   "cell_type": "markdown",
   "metadata": {},
   "source": [
    "Berdasarkan grafik diatas, provinsi jawa barat memiliki tingkat putus terbanyak selama pada tahun 2018-2011"
   ]
  },
  {
   "cell_type": "code",
   "execution_count": 155,
   "metadata": {},
   "outputs": [
    {
     "data": {
      "text/html": [
       "<div>\n",
       "<style scoped>\n",
       "    .dataframe tbody tr th:only-of-type {\n",
       "        vertical-align: middle;\n",
       "    }\n",
       "\n",
       "    .dataframe tbody tr th {\n",
       "        vertical-align: top;\n",
       "    }\n",
       "\n",
       "    .dataframe thead th {\n",
       "        text-align: right;\n",
       "    }\n",
       "</style>\n",
       "<table border=\"1\" class=\"dataframe\">\n",
       "  <thead>\n",
       "    <tr style=\"text-align: right;\">\n",
       "      <th></th>\n",
       "      <th>sd_jumlah_putus_sekolah</th>\n",
       "      <th>smp_jumlah_putus_sekolah</th>\n",
       "      <th>sma_jumlah_putus_sekolah</th>\n",
       "    </tr>\n",
       "    <tr>\n",
       "      <th>tahun</th>\n",
       "      <th></th>\n",
       "      <th></th>\n",
       "      <th></th>\n",
       "    </tr>\n",
       "  </thead>\n",
       "  <tbody>\n",
       "    <tr>\n",
       "      <th>2008</th>\n",
       "      <td>13260.848485</td>\n",
       "      <td>6508.333333</td>\n",
       "      <td>4294.303030</td>\n",
       "    </tr>\n",
       "    <tr>\n",
       "      <th>2009</th>\n",
       "      <td>13487.121212</td>\n",
       "      <td>5616.090909</td>\n",
       "      <td>3820.272727</td>\n",
       "    </tr>\n",
       "    <tr>\n",
       "      <th>2010</th>\n",
       "      <td>13304.030303</td>\n",
       "      <td>5040.242424</td>\n",
       "      <td>4311.363636</td>\n",
       "    </tr>\n",
       "    <tr>\n",
       "      <th>2011</th>\n",
       "      <td>7545.090909</td>\n",
       "      <td>4450.636364</td>\n",
       "      <td>1445.727273</td>\n",
       "    </tr>\n",
       "  </tbody>\n",
       "</table>\n",
       "</div>"
      ],
      "text/plain": [
       "       sd_jumlah_putus_sekolah  smp_jumlah_putus_sekolah  \\\n",
       "tahun                                                      \n",
       "2008              13260.848485               6508.333333   \n",
       "2009              13487.121212               5616.090909   \n",
       "2010              13304.030303               5040.242424   \n",
       "2011               7545.090909               4450.636364   \n",
       "\n",
       "       sma_jumlah_putus_sekolah  \n",
       "tahun                            \n",
       "2008                4294.303030  \n",
       "2009                3820.272727  \n",
       "2010                4311.363636  \n",
       "2011                1445.727273  "
      ]
     },
     "execution_count": 155,
     "metadata": {},
     "output_type": "execute_result"
    }
   ],
   "source": [
    "dg = dataSekolah.groupby('tahun').mean()[['sd_jumlah_putus_sekolah', 'smp_jumlah_putus_sekolah', 'sma_jumlah_putus_sekolah']]\n",
    "dg"
   ]
  },
  {
   "cell_type": "code",
   "execution_count": 156,
   "metadata": {},
   "outputs": [
    {
     "data": {
      "text/plain": [
       "Text(0, 0.5, 'Jumlah Individu')"
      ]
     },
     "execution_count": 156,
     "metadata": {},
     "output_type": "execute_result"
    },
    {
     "data": {
      "image/png": "[encoded data removed]",
      "text/plain": [
       "<Figure size 1080x360 with 1 Axes>"
      ]
     },
     "metadata": {
      "needs_background": "light"
     },
     "output_type": "display_data"
    }
   ],
   "source": [
    "dg = dg.plot(kind='bar', title =\"Jumlah siswa (SD, SMP, SMA) putus sekolah setiap tahun\", figsize=(15,5), legend=True, fontsize=12)\n",
    "dg.set_xlabel(\"Provinsi\", fontsize=12)\n",
    "dg.set_ylabel(\"Jumlah Individu\", fontsize=12)"
   ]
  },
  {
   "cell_type": "markdown",
   "metadata": {},
   "source": [
    "Berdasarkan grafik diatas, SD merupakan jenjeng pendidikan yang memiliki jumlah putus sekolah terbesar dibanding SMP dan SMA setiap tahunnya. Selain itu, angka putus sekolah setiap jenjang mengalami penurunan pada tahun 2008 sampai 2011."
   ]
  },
  {
   "cell_type": "code",
   "execution_count": null,
   "metadata": {},
   "outputs": [],
   "source": []
  }
 ],
 "metadata": {
  "kernelspec": {
   "display_name": "Python 3",
   "language": "python",
   "name": "python3"
  },
  "language_info": {
   "codemirror_mode": {
    "name": "ipython",
    "version": 3
   },
   "file_extension": ".py",
   "mimetype": "text/x-python",
   "name": "python",
   "nbconvert_exporter": "python",
   "pygments_lexer": "ipython3",
   "version": "3.7.0"
  }
 },
 "nbformat": 4,
 "nbformat_minor": 2
}
